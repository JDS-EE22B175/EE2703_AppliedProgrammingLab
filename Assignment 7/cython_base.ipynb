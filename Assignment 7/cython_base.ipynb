{
 "cells": [
  {
   "cell_type": "markdown",
   "id": "b0dc7bc1-8d6c-4fd0-a0e8-5db1df8fca43",
   "metadata": {},
   "source": [
    "# Compilation and Speeding Up\n",
    "\n",
    "Python is an interpreted language.  This means that the code you write is basically being interpreted line by line (this is an oversimplification, but not far from the truth).  Each time a line of code is read, it has to be converted into equivalent machine language instructions.  For example, a `for` loop will need a register to be initialized, an instruction for incrementing the counter, an instruction to check the limits, and suitable branching statements.\n",
    "\n",
    "When a program is *compiled*, it is converted into machine language once and for all, and only that code is then run.  This also means that any change in the code requires a complete recompilation.  Compared to Python, this is less interactive and takes a longer time to do.\n",
    "\n",
    "So compiled languages pay a cost at compile time, and reap the benefits at run time.  If you expect that your program is going to run multiple times, then it is usually worth checking if this cost is worth it."
   ]
  },
  {
   "cell_type": "markdown",
   "id": "37e6f8b6-32bc-4625-9455-c3c4d5512b3e",
   "metadata": {},
   "source": [
    "## Speed of Python\n",
    "\n",
    "Python code is typically slow for a number of reasons:\n",
    "\n",
    "- Data types are not known ahead of time, and the type of a variable can be dynamically changed.  You can store a string in a variable that previously had an `int` for example, and there will be no conflict.  This makes it hard to optimize variables as you do not know how they will change in future.\n",
    "- Semantics of certain operations are different in Python than they are in other languages or machine code.  For example, *Divide by Zero* will cause an exception to be raised in Python code.  On the other hand, in C code it will result in the program crashing.  It may be possible to catch this exception in languages like C++, but it is optional and not mandatory, so it is possible to crash as well.  Such checks add extra code and slow the program down.\n",
    "- Accessing an index that is beyond the bounds of a list will cause an Error to be raised.  In C it will not be an error, but may cause the program to crash with a Segmentation Fault.\n",
    "\n",
    "Similarly, there are other situations where the semantics of the Python code differ from a similar C or machine language representation.  Whenever this happens, there is a chance that the Python will be slower than the raw code.\n",
    "\n",
    "## Improving Speed\n",
    "\n",
    "The simplest approach for speeding things up is to try and convert the Python code to a lower level language like C, compile it, and then run the compiled code.  However, due to the above restrictions, this has to be done with care, to avoid changing the meaning of the program.\n",
    "\n",
    "## Cython\n",
    "\n",
    "*Cython* is a particular variant of the Python language: it introduces several new syntactic elements into the language to address the issues with types and compilation.  The usual way of running it is to compile the code into a dynamic library, and then import this into Python.  However, in Jupyter notebooks, there is an easier approach that can be used, which makes use of the Cython extensions and *magic annotations*."
   ]
  },
  {
   "cell_type": "markdown",
   "id": "32863242-1fbd-4877-a00e-1581be96f196",
   "metadata": {},
   "source": [
    "# Timing and Optimization\n",
    "\n",
    "We first measure the time taken for a simple function.  Then we can look at optimizing this using Cython."
   ]
  },
  {
   "cell_type": "code",
   "execution_count": null,
   "id": "157ec55c-0a02-4ded-a199-af6e708e00e3",
   "metadata": {},
   "outputs": [],
   "source": [
    "def isPrime(n):\n",
    "    for i in range(2,int(n**0.5)+1):\n",
    "        if n%i==0:\n",
    "            return False\n",
    "        \n",
    "    return True"
   ]
  },
  {
   "cell_type": "code",
   "execution_count": null,
   "id": "e2939122-e8da-4f90-b198-1be2c38b2b0c",
   "metadata": {},
   "outputs": [],
   "source": [
    "%timeit isPrime(999999937)"
   ]
  },
  {
   "cell_type": "markdown",
   "id": "2cdff68a-607f-4032-9e53-ce6812f01230",
   "metadata": {},
   "source": [
    "## Cython\n",
    "\n",
    "First we just apply cython without any optimizations.  Later we will see the effect of adding the optimizations to it."
   ]
  },
  {
   "cell_type": "code",
   "execution_count": 2,
   "id": "199d5040-7961-46e7-a380-837b7a022133",
   "metadata": {},
   "outputs": [],
   "source": [
    "%load_ext cython"
   ]
  },
  {
   "cell_type": "code",
   "execution_count": 3,
   "id": "ee4f0740-e914-4443-b6c0-e5b1ad261bf8",
   "metadata": {},
   "outputs": [
    {
     "ename": "DistutilsPlatformError",
     "evalue": "Microsoft Visual C++ 14.0 or greater is required. Get it with \"Microsoft C++ Build Tools\": https://visualstudio.microsoft.com/visual-cpp-build-tools/",
     "output_type": "error",
     "traceback": [
      "\u001b[1;31m---------------------------------------------------------------------------\u001b[0m",
      "\u001b[1;31mDistutilsPlatformError\u001b[0m                    Traceback (most recent call last)",
      "\u001b[1;32mc:\\Users\\jkant\\OneDrive\\Desktop\\IIT Madras Stuff\\IITM Study Resources\\Semester 3\\EE 2703 - Applied Programming Lab\\Assignment 7\\cython_base.ipynb Cell 8\u001b[0m line \u001b[0;36m1\n\u001b[1;32m----> <a href='vscode-notebook-cell:/c%3A/Users/jkant/OneDrive/Desktop/IIT%20Madras%20Stuff/IITM%20Study%20Resources/Semester%203/EE%202703%20-%20Applied%20Programming%20Lab/Assignment%207/cython_base.ipynb#X10sZmlsZQ%3D%3D?line=0'>1</a>\u001b[0m get_ipython()\u001b[39m.\u001b[39;49mrun_cell_magic(\u001b[39m'\u001b[39;49m\u001b[39mcython\u001b[39;49m\u001b[39m'\u001b[39;49m, \u001b[39m'\u001b[39;49m\u001b[39m--annotate\u001b[39;49m\u001b[39m'\u001b[39;49m, \u001b[39m'\u001b[39;49m\u001b[39m\\n\u001b[39;49;00m\u001b[39mdef cbasic_isPrime(int n):\u001b[39;49m\u001b[39m\\n\u001b[39;49;00m\u001b[39m    cdef int lim = int(n**0.5)+1\u001b[39;49m\u001b[39m\\n\u001b[39;49;00m\u001b[39m    for i in range(2,lim):\u001b[39;49m\u001b[39m\\n\u001b[39;49;00m\u001b[39m        if n\u001b[39;49m\u001b[39m%i\u001b[39;49;00m\u001b[39m==0:\u001b[39;49m\u001b[39m\\n\u001b[39;49;00m\u001b[39m            return False\u001b[39;49m\u001b[39m\\n\u001b[39;49;00m\u001b[39m        \u001b[39;49m\u001b[39m\\n\u001b[39;49;00m\u001b[39m    return True\u001b[39;49m\u001b[39m\\n\u001b[39;49;00m\u001b[39m'\u001b[39;49m)\n",
      "File \u001b[1;32mc:\\Users\\jkant\\AppData\\Local\\Programs\\Python\\Python311\\Lib\\site-packages\\IPython\\core\\interactiveshell.py:2430\u001b[0m, in \u001b[0;36mInteractiveShell.run_cell_magic\u001b[1;34m(self, magic_name, line, cell)\u001b[0m\n\u001b[0;32m   2428\u001b[0m \u001b[39mwith\u001b[39;00m \u001b[39mself\u001b[39m\u001b[39m.\u001b[39mbuiltin_trap:\n\u001b[0;32m   2429\u001b[0m     args \u001b[39m=\u001b[39m (magic_arg_s, cell)\n\u001b[1;32m-> 2430\u001b[0m     result \u001b[39m=\u001b[39m fn(\u001b[39m*\u001b[39;49margs, \u001b[39m*\u001b[39;49m\u001b[39m*\u001b[39;49mkwargs)\n\u001b[0;32m   2432\u001b[0m \u001b[39m# The code below prevents the output from being displayed\u001b[39;00m\n\u001b[0;32m   2433\u001b[0m \u001b[39m# when using magics with decodator @output_can_be_silenced\u001b[39;00m\n\u001b[0;32m   2434\u001b[0m \u001b[39m# when the last Python token in the expression is a ';'.\u001b[39;00m\n\u001b[0;32m   2435\u001b[0m \u001b[39mif\u001b[39;00m \u001b[39mgetattr\u001b[39m(fn, magic\u001b[39m.\u001b[39mMAGIC_OUTPUT_CAN_BE_SILENCED, \u001b[39mFalse\u001b[39;00m):\n",
      "File \u001b[1;32mc:\\Users\\jkant\\AppData\\Local\\Programs\\Python\\Python311\\Lib\\site-packages\\Cython\\Build\\IpythonMagic.py:349\u001b[0m, in \u001b[0;36mCythonMagics.cython\u001b[1;34m(self, line, cell)\u001b[0m\n\u001b[0;32m    347\u001b[0m     \u001b[39mwith\u001b[39;00m captured_fd(\u001b[39m1\u001b[39m) \u001b[39mas\u001b[39;00m get_stdout:\n\u001b[0;32m    348\u001b[0m         \u001b[39mwith\u001b[39;00m captured_fd(\u001b[39m2\u001b[39m) \u001b[39mas\u001b[39;00m get_stderr:\n\u001b[1;32m--> 349\u001b[0m             \u001b[39mself\u001b[39;49m\u001b[39m.\u001b[39;49m_build_extension(\n\u001b[0;32m    350\u001b[0m                 extension, lib_dir, pgo_step_name\u001b[39m=\u001b[39;49m\u001b[39m'\u001b[39;49m\u001b[39muse\u001b[39;49m\u001b[39m'\u001b[39;49m \u001b[39mif\u001b[39;49;00m args\u001b[39m.\u001b[39;49mpgo \u001b[39melse\u001b[39;49;00m \u001b[39mNone\u001b[39;49;00m, quiet\u001b[39m=\u001b[39;49margs\u001b[39m.\u001b[39;49mquiet)\n\u001b[0;32m    351\u001b[0m \u001b[39mexcept\u001b[39;00m (distutils\u001b[39m.\u001b[39merrors\u001b[39m.\u001b[39mCompileError, distutils\u001b[39m.\u001b[39merrors\u001b[39m.\u001b[39mLinkError):\n\u001b[0;32m    352\u001b[0m     \u001b[39m# Build failed, print error message from compiler/linker\u001b[39;00m\n\u001b[0;32m    353\u001b[0m     print_compiler_output(get_stdout(), get_stderr(), sys\u001b[39m.\u001b[39mstderr)\n",
      "File \u001b[1;32mc:\\Users\\jkant\\AppData\\Local\\Programs\\Python\\Python311\\Lib\\site-packages\\Cython\\Build\\IpythonMagic.py:466\u001b[0m, in \u001b[0;36mCythonMagics._build_extension\u001b[1;34m(self, extension, lib_dir, temp_dir, pgo_step_name, quiet)\u001b[0m\n\u001b[0;32m    464\u001b[0m     \u001b[39mif\u001b[39;00m \u001b[39mnot\u001b[39;00m quiet:\n\u001b[0;32m    465\u001b[0m         old_threshold \u001b[39m=\u001b[39m distutils\u001b[39m.\u001b[39mlog\u001b[39m.\u001b[39mset_threshold(distutils\u001b[39m.\u001b[39mlog\u001b[39m.\u001b[39mDEBUG)\n\u001b[1;32m--> 466\u001b[0m     build_extension\u001b[39m.\u001b[39;49mrun()\n\u001b[0;32m    467\u001b[0m \u001b[39mfinally\u001b[39;00m:\n\u001b[0;32m    468\u001b[0m     \u001b[39mif\u001b[39;00m \u001b[39mnot\u001b[39;00m quiet \u001b[39mand\u001b[39;00m old_threshold \u001b[39mis\u001b[39;00m \u001b[39mnot\u001b[39;00m \u001b[39mNone\u001b[39;00m:\n",
      "File \u001b[1;32mc:\\Users\\jkant\\AppData\\Local\\Programs\\Python\\Python311\\Lib\\site-packages\\setuptools\\_distutils\\command\\build_ext.py:346\u001b[0m, in \u001b[0;36mbuild_ext.run\u001b[1;34m(self)\u001b[0m\n\u001b[0;32m    343\u001b[0m     \u001b[39mself\u001b[39m\u001b[39m.\u001b[39mcompiler\u001b[39m.\u001b[39mset_link_objects(\u001b[39mself\u001b[39m\u001b[39m.\u001b[39mlink_objects)\n\u001b[0;32m    345\u001b[0m \u001b[39m# Now actually compile and link everything.\u001b[39;00m\n\u001b[1;32m--> 346\u001b[0m \u001b[39mself\u001b[39;49m\u001b[39m.\u001b[39;49mbuild_extensions()\n",
      "File \u001b[1;32mc:\\Users\\jkant\\AppData\\Local\\Programs\\Python\\Python311\\Lib\\site-packages\\setuptools\\_distutils\\command\\build_ext.py:466\u001b[0m, in \u001b[0;36mbuild_ext.build_extensions\u001b[1;34m(self)\u001b[0m\n\u001b[0;32m    464\u001b[0m     \u001b[39mself\u001b[39m\u001b[39m.\u001b[39m_build_extensions_parallel()\n\u001b[0;32m    465\u001b[0m \u001b[39melse\u001b[39;00m:\n\u001b[1;32m--> 466\u001b[0m     \u001b[39mself\u001b[39;49m\u001b[39m.\u001b[39;49m_build_extensions_serial()\n",
      "File \u001b[1;32mc:\\Users\\jkant\\AppData\\Local\\Programs\\Python\\Python311\\Lib\\site-packages\\setuptools\\_distutils\\command\\build_ext.py:492\u001b[0m, in \u001b[0;36mbuild_ext._build_extensions_serial\u001b[1;34m(self)\u001b[0m\n\u001b[0;32m    490\u001b[0m \u001b[39mfor\u001b[39;00m ext \u001b[39min\u001b[39;00m \u001b[39mself\u001b[39m\u001b[39m.\u001b[39mextensions:\n\u001b[0;32m    491\u001b[0m     \u001b[39mwith\u001b[39;00m \u001b[39mself\u001b[39m\u001b[39m.\u001b[39m_filter_build_errors(ext):\n\u001b[1;32m--> 492\u001b[0m         \u001b[39mself\u001b[39;49m\u001b[39m.\u001b[39;49mbuild_extension(ext)\n",
      "File \u001b[1;32mc:\\Users\\jkant\\AppData\\Local\\Programs\\Python\\Python311\\Lib\\site-packages\\setuptools\\_distutils\\command\\build_ext.py:547\u001b[0m, in \u001b[0;36mbuild_ext.build_extension\u001b[1;34m(self, ext)\u001b[0m\n\u001b[0;32m    544\u001b[0m \u001b[39mfor\u001b[39;00m undef \u001b[39min\u001b[39;00m ext\u001b[39m.\u001b[39mundef_macros:\n\u001b[0;32m    545\u001b[0m     macros\u001b[39m.\u001b[39mappend((undef,))\n\u001b[1;32m--> 547\u001b[0m objects \u001b[39m=\u001b[39m \u001b[39mself\u001b[39;49m\u001b[39m.\u001b[39;49mcompiler\u001b[39m.\u001b[39;49mcompile(\n\u001b[0;32m    548\u001b[0m     sources,\n\u001b[0;32m    549\u001b[0m     output_dir\u001b[39m=\u001b[39;49m\u001b[39mself\u001b[39;49m\u001b[39m.\u001b[39;49mbuild_temp,\n\u001b[0;32m    550\u001b[0m     macros\u001b[39m=\u001b[39;49mmacros,\n\u001b[0;32m    551\u001b[0m     include_dirs\u001b[39m=\u001b[39;49mext\u001b[39m.\u001b[39;49minclude_dirs,\n\u001b[0;32m    552\u001b[0m     debug\u001b[39m=\u001b[39;49m\u001b[39mself\u001b[39;49m\u001b[39m.\u001b[39;49mdebug,\n\u001b[0;32m    553\u001b[0m     extra_postargs\u001b[39m=\u001b[39;49mextra_args,\n\u001b[0;32m    554\u001b[0m     depends\u001b[39m=\u001b[39;49mext\u001b[39m.\u001b[39;49mdepends,\n\u001b[0;32m    555\u001b[0m )\n\u001b[0;32m    557\u001b[0m \u001b[39m# XXX outdated variable, kept here in case third-part code\u001b[39;00m\n\u001b[0;32m    558\u001b[0m \u001b[39m# needs it.\u001b[39;00m\n\u001b[0;32m    559\u001b[0m \u001b[39mself\u001b[39m\u001b[39m.\u001b[39m_built_objects \u001b[39m=\u001b[39m objects[:]\n",
      "File \u001b[1;32mc:\\Users\\jkant\\AppData\\Local\\Programs\\Python\\Python311\\Lib\\site-packages\\setuptools\\_distutils\\_msvccompiler.py:344\u001b[0m, in \u001b[0;36mMSVCCompiler.compile\u001b[1;34m(self, sources, output_dir, macros, include_dirs, debug, extra_preargs, extra_postargs, depends)\u001b[0m\n\u001b[0;32m    331\u001b[0m \u001b[39mdef\u001b[39;00m \u001b[39mcompile\u001b[39m(  \u001b[39m# noqa: C901\u001b[39;00m\n\u001b[0;32m    332\u001b[0m     \u001b[39mself\u001b[39m,\n\u001b[0;32m    333\u001b[0m     sources,\n\u001b[1;32m   (...)\u001b[0m\n\u001b[0;32m    340\u001b[0m     depends\u001b[39m=\u001b[39m\u001b[39mNone\u001b[39;00m,\n\u001b[0;32m    341\u001b[0m ):\n\u001b[0;32m    343\u001b[0m     \u001b[39mif\u001b[39;00m \u001b[39mnot\u001b[39;00m \u001b[39mself\u001b[39m\u001b[39m.\u001b[39minitialized:\n\u001b[1;32m--> 344\u001b[0m         \u001b[39mself\u001b[39;49m\u001b[39m.\u001b[39;49minitialize()\n\u001b[0;32m    345\u001b[0m     compile_info \u001b[39m=\u001b[39m \u001b[39mself\u001b[39m\u001b[39m.\u001b[39m_setup_compile(\n\u001b[0;32m    346\u001b[0m         output_dir, macros, include_dirs, sources, depends, extra_postargs\n\u001b[0;32m    347\u001b[0m     )\n\u001b[0;32m    348\u001b[0m     macros, objects, extra_postargs, pp_opts, build \u001b[39m=\u001b[39m compile_info\n",
      "File \u001b[1;32mc:\\Users\\jkant\\AppData\\Local\\Programs\\Python\\Python311\\Lib\\site-packages\\setuptools\\_distutils\\_msvccompiler.py:253\u001b[0m, in \u001b[0;36mMSVCCompiler.initialize\u001b[1;34m(self, plat_name)\u001b[0m\n\u001b[0;32m    250\u001b[0m \u001b[39m# Get the vcvarsall.bat spec for the requested platform.\u001b[39;00m\n\u001b[0;32m    251\u001b[0m plat_spec \u001b[39m=\u001b[39m PLAT_TO_VCVARS[plat_name]\n\u001b[1;32m--> 253\u001b[0m vc_env \u001b[39m=\u001b[39m _get_vc_env(plat_spec)\n\u001b[0;32m    254\u001b[0m \u001b[39mif\u001b[39;00m \u001b[39mnot\u001b[39;00m vc_env:\n\u001b[0;32m    255\u001b[0m     \u001b[39mraise\u001b[39;00m DistutilsPlatformError(\n\u001b[0;32m    256\u001b[0m         \u001b[39m\"\u001b[39m\u001b[39mUnable to find a compatible \u001b[39m\u001b[39m\"\u001b[39m \u001b[39m\"\u001b[39m\u001b[39mVisual Studio installation.\u001b[39m\u001b[39m\"\u001b[39m\n\u001b[0;32m    257\u001b[0m     )\n",
      "File \u001b[1;32mc:\\Users\\jkant\\AppData\\Local\\Programs\\Python\\Python311\\Lib\\site-packages\\setuptools\\msvc.py:214\u001b[0m, in \u001b[0;36mmsvc14_get_vc_env\u001b[1;34m(plat_spec)\u001b[0m\n\u001b[0;32m    212\u001b[0m \u001b[39m# Always use backport from CPython 3.8\u001b[39;00m\n\u001b[0;32m    213\u001b[0m \u001b[39mtry\u001b[39;00m:\n\u001b[1;32m--> 214\u001b[0m     \u001b[39mreturn\u001b[39;00m _msvc14_get_vc_env(plat_spec)\n\u001b[0;32m    215\u001b[0m \u001b[39mexcept\u001b[39;00m distutils\u001b[39m.\u001b[39merrors\u001b[39m.\u001b[39mDistutilsPlatformError \u001b[39mas\u001b[39;00m exc:\n\u001b[0;32m    216\u001b[0m     _augment_exception(exc, \u001b[39m14.0\u001b[39m)\n",
      "File \u001b[1;32mc:\\Users\\jkant\\AppData\\Local\\Programs\\Python\\Python311\\Lib\\site-packages\\setuptools\\msvc.py:168\u001b[0m, in \u001b[0;36m_msvc14_get_vc_env\u001b[1;34m(plat_spec)\u001b[0m\n\u001b[0;32m    166\u001b[0m vcvarsall, vcruntime \u001b[39m=\u001b[39m _msvc14_find_vcvarsall(plat_spec)\n\u001b[0;32m    167\u001b[0m \u001b[39mif\u001b[39;00m \u001b[39mnot\u001b[39;00m vcvarsall:\n\u001b[1;32m--> 168\u001b[0m     \u001b[39mraise\u001b[39;00m distutils\u001b[39m.\u001b[39merrors\u001b[39m.\u001b[39mDistutilsPlatformError(\n\u001b[0;32m    169\u001b[0m         \u001b[39m\"\u001b[39m\u001b[39mUnable to find vcvarsall.bat\u001b[39m\u001b[39m\"\u001b[39m\n\u001b[0;32m    170\u001b[0m     )\n\u001b[0;32m    172\u001b[0m \u001b[39mtry\u001b[39;00m:\n\u001b[0;32m    173\u001b[0m     out \u001b[39m=\u001b[39m subprocess\u001b[39m.\u001b[39mcheck_output(\n\u001b[0;32m    174\u001b[0m         \u001b[39m'\u001b[39m\u001b[39mcmd /u /c \u001b[39m\u001b[39m\"\u001b[39m\u001b[39m{}\u001b[39;00m\u001b[39m\"\u001b[39m\u001b[39m \u001b[39m\u001b[39m{}\u001b[39;00m\u001b[39m && set\u001b[39m\u001b[39m'\u001b[39m\u001b[39m.\u001b[39mformat(vcvarsall, plat_spec),\n\u001b[0;32m    175\u001b[0m         stderr\u001b[39m=\u001b[39msubprocess\u001b[39m.\u001b[39mSTDOUT,\n\u001b[0;32m    176\u001b[0m     )\u001b[39m.\u001b[39mdecode(\u001b[39m'\u001b[39m\u001b[39mutf-16le\u001b[39m\u001b[39m'\u001b[39m, errors\u001b[39m=\u001b[39m\u001b[39m'\u001b[39m\u001b[39mreplace\u001b[39m\u001b[39m'\u001b[39m)\n",
      "\u001b[1;31mDistutilsPlatformError\u001b[0m: Microsoft Visual C++ 14.0 or greater is required. Get it with \"Microsoft C++ Build Tools\": https://visualstudio.microsoft.com/visual-cpp-build-tools/"
     ]
    }
   ],
   "source": [
    "%%cython --annotate\n",
    "\n",
    "def cbasic_isPrime(int n):\n",
    "    cdef int lim = int(n**0.5)+1\n",
    "    for i in range(2,lim):\n",
    "        if n%i==0:\n",
    "            return False\n",
    "        \n",
    "    return True"
   ]
  },
  {
   "cell_type": "code",
   "execution_count": null,
   "id": "e86d216a-7f4f-4ea0-ba27-3918836118e8",
   "metadata": {},
   "outputs": [],
   "source": [
    "%timeit cbasic_isPrime(999999937)"
   ]
  },
  {
   "cell_type": "markdown",
   "id": "a7d9f22b-3952-4883-831f-cbeb1c6e3045",
   "metadata": {},
   "source": [
    "### Optimized\n",
    "\n",
    "Now apply several optimizations"
   ]
  },
  {
   "cell_type": "code",
   "execution_count": null,
   "id": "2487e566-d72f-4066-90ce-4532a4e9738e",
   "metadata": {},
   "outputs": [],
   "source": [
    "%%cython --annotate\n",
    "\n",
    "import cython\n",
    "\n",
    "@cython.cdivision(True)\n",
    "def c_isPrime(int n):\n",
    "    cdef int i\n",
    "    cdef float sqrtn = (n**0.5)\n",
    "    cdef int lim = int(sqrtn)+1\n",
    "    for i in range(2,lim):\n",
    "        if n%i==0:\n",
    "            return False\n",
    "        \n",
    "    return True"
   ]
  },
  {
   "cell_type": "code",
   "execution_count": null,
   "id": "35034636-6d73-4640-b463-b9520381faf6",
   "metadata": {},
   "outputs": [],
   "source": [
    "# %timeit c_isPrime(999999999)\n",
    "# %timeit c_isPrime(999999937)\n",
    "print(c_isPrime(13.5))"
   ]
  },
  {
   "cell_type": "markdown",
   "id": "27ba4c15",
   "metadata": {},
   "source": [
    "# Matrix multiplication\n"
   ]
  },
  {
   "cell_type": "code",
   "execution_count": 4,
   "id": "55baf924",
   "metadata": {},
   "outputs": [],
   "source": [
    "import numpy as np\n",
    "def matrix_multiply(u, v):\n",
    "    m, n = u.shape\n",
    "    n, p = v.shape\n",
    "    res = np.zeros((m, p))\n",
    "    for i in range(m):\n",
    "        for j in range(p):\n",
    "            res[i,j] = 0\n",
    "            for k in range(n):\n",
    "                res[i,j] += u[i,k] * v[k,j]\n",
    "    return res\n"
   ]
  },
  {
   "cell_type": "code",
   "execution_count": null,
   "metadata": {},
   "outputs": [],
   "source": [
    "%%cython -a\n",
    "\n",
    "import numpy as np\n",
    "import cython\n",
    "\n",
    "# @cython.boundscheck(False)\n",
    "# @cython.wraparound(False)\n",
    "def cy_matmul(float[:,:] u, float[:,:] v, float[:,:] res):\n",
    "# def cy_matmul(u, v, res):\n",
    "    cdef int m, n, p\n",
    "    cdef int i, j, k\n",
    "    m = u.shape[0]\n",
    "    n = u.shape[1]\n",
    "    p = v.shape[1]\n",
    "    # res = np.zeros((m, p))\n",
    "    for i in range(m):\n",
    "        for j in range(p):\n",
    "            res[i,j] = 0\n",
    "            for k in range(n):\n",
    "                res[i,j] += u[i,k] * v[k,j]\n",
    "    return res\n"
   ]
  },
  {
   "cell_type": "code",
   "execution_count": 7,
   "id": "8e820ced",
   "metadata": {},
   "outputs": [
    {
     "name": "stdout",
     "output_type": "stream",
     "text": [
      "13.3 ms ± 432 µs per loop (mean ± std. dev. of 3 runs, 100 loops each)\n"
     ]
    }
   ],
   "source": [
    "u = np.random.random((1000,2000))\n",
    "v = np.random.random((2000,500))\n",
    "%timeit -n 100 -r 3 u@v\n",
    "# res = matrix_multiply(u, v)\n",
    "# print(res)"
   ]
  },
  {
   "cell_type": "code",
   "execution_count": null,
   "id": "ad989b11-52df-4eaa-bde6-27eb61a9a5e4",
   "metadata": {},
   "outputs": [],
   "source": [
    "# print(u@v)"
   ]
  },
  {
   "cell_type": "code",
   "execution_count": null,
   "id": "b27af0e5-dd81-4e99-bff5-a7fd640c3071",
   "metadata": {},
   "outputs": [],
   "source": [
    "# print(np.max(np.abs(u@v - res)))"
   ]
  },
  {
   "cell_type": "code",
   "execution_count": null,
   "id": "69159a8a",
   "metadata": {},
   "outputs": [],
   "source": [
    "# %timeit matrix_multiply(u, v)"
   ]
  },
  {
   "cell_type": "code",
   "execution_count": null,
   "id": "a6af57c6",
   "metadata": {},
   "outputs": [],
   "source": [
    "%timeit -n 100 -r 3 u@v"
   ]
  },
  {
   "cell_type": "code",
   "execution_count": null,
   "id": "53f041a8-0ff0-4bd4-8295-15e67299700d",
   "metadata": {},
   "outputs": [],
   "source": [
    "%load_ext Cython"
   ]
  },
  {
   "cell_type": "code",
   "execution_count": null,
   "id": "a9854256-ba89-4ffe-9484-08284e028810",
   "metadata": {},
   "outputs": [],
   "source": [
    "import cython"
   ]
  },
  {
   "cell_type": "code",
   "execution_count": null,
   "id": "80a7120b",
   "metadata": {},
   "outputs": [],
   "source": [
    "%%cython -a\n",
    "\n",
    "import numpy as np\n",
    "import cython\n",
    "\n",
    "# @cython.boundscheck(False)\n",
    "# @cython.wraparound(False)\n",
    "def cy_matmul(float[:,:] u, float[:,:] v, float[:,:] res):\n",
    "# def cy_matmul(u, v, res):\n",
    "    cdef int m, n, p\n",
    "    cdef int i, j, k\n",
    "    m = u.shape[0]\n",
    "    n = u.shape[1]\n",
    "    p = v.shape[1]\n",
    "    # res = np.zeros((m, p))\n",
    "    for i in range(m):\n",
    "        for j in range(p):\n",
    "            res[i,j] = 0\n",
    "            for k in range(n):\n",
    "                res[i,j] += u[i,k] * v[k,j]\n",
    "    return res\n"
   ]
  },
  {
   "cell_type": "code",
   "execution_count": null,
   "id": "f132b3b7-5962-4a5f-9d99-968d9f83ef39",
   "metadata": {},
   "outputs": [],
   "source": [
    "u = np.float32(np.random.random((100,100)))\n",
    "v = np.float32(np.random.random((100,100)))\n",
    "res = np.zeros((100, 100), dtype=np.float32)\n",
    "%timeit -n 1 -r 1 cy_matmul(u, v, res)\n"
   ]
  },
  {
   "cell_type": "code",
   "execution_count": null,
   "id": "85abd61a-c22d-443d-a771-8c312b72cf78",
   "metadata": {},
   "outputs": [],
   "source": [
    "%timeit -n 1 -r 1 matrix_multiply(u, v)"
   ]
  },
  {
   "cell_type": "code",
   "execution_count": null,
   "id": "0ded3c31-48fd-4663-ab31-381958f953d9",
   "metadata": {},
   "outputs": [],
   "source": [
    "%timeit -n 5 -r 3 u@v"
   ]
  },
  {
   "cell_type": "code",
   "execution_count": null,
   "id": "7292bdd7-b329-4ac8-8324-13d4499be792",
   "metadata": {},
   "outputs": [],
   "source": []
  }
 ],
 "metadata": {
  "kernelspec": {
   "display_name": "Python 3 (ipykernel)",
   "language": "python",
   "name": "python3"
  },
  "language_info": {
   "codemirror_mode": {
    "name": "ipython",
    "version": 3
   },
   "file_extension": ".py",
   "mimetype": "text/x-python",
   "name": "python",
   "nbconvert_exporter": "python",
   "pygments_lexer": "ipython3",
   "version": "3.11.2"
  }
 },
 "nbformat": 4,
 "nbformat_minor": 5
}
